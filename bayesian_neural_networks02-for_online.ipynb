{
 "cells": [
  {
   "cell_type": "markdown",
   "metadata": {},
   "source": [
    "### Bayesian Neural Network"
   ]
  },
  {
   "cell_type": "code",
   "execution_count": null,
   "metadata": {
    "ExecuteTime": {
     "end_time": "2020-01-07T01:13:33.841006Z",
     "start_time": "2020-01-07T01:13:27.728091Z"
    }
   },
   "outputs": [],
   "source": [
    "%matplotlib inline\n",
    "\n",
    "import theano\n",
    "import pymc3 as pm\n",
    "import theano.tensor as T\n",
    "import numpy as np\n",
    "\n",
    "import matplotlib.pyplot as plt\n",
    "import matplotlib.cm as cm\n",
    "\n",
    "import seaborn as sns\n",
    "from warnings import filterwarnings\n",
    "filterwarnings('ignore') \n",
    "sns.set_style('white')\n",
    "\n",
    "# image processing / scalers\n",
    "from sklearn.preprocessing import MinMaxScaler\n",
    "from sklearn.preprocessing import scale\n",
    "\n",
    "# dimensionality reduction\n",
    "from sklearn.decomposition import PCA\n",
    "from sklearn.manifold import TSNE\n",
    "\n",
    "# neural network / machine learning\n",
    "from sklearn.neural_network import MLPClassifier\n",
    "\n",
    "# methods metrics\n",
    "from sklearn.metrics import accuracy_score\n",
    "from sklearn.metrics import confusion_matrix\n",
    "\n",
    "# MNIST dataset\n",
    "import keras.datasets as ds\n",
    "import theano.tensor.nnet as nnet"
   ]
  },
  {
   "cell_type": "markdown",
   "metadata": {},
   "source": [
    "### MNIST Dataset  / data processing"
   ]
  },
  {
   "cell_type": "code",
   "execution_count": null,
   "metadata": {
    "ExecuteTime": {
     "end_time": "2020-01-07T01:13:36.586676Z",
     "start_time": "2020-01-07T01:13:36.582863Z"
    }
   },
   "outputs": [],
   "source": [
    "# use this function for various processing steps\n",
    "def process_dataset(dataset):\n",
    "    processed_ds = []\n",
    "    for image in dataset:\n",
    "        processed_ds.append(image.flatten())\n",
    "    return np.array(processed_ds)"
   ]
  },
  {
   "cell_type": "code",
   "execution_count": null,
   "metadata": {
    "ExecuteTime": {
     "end_time": "2020-01-07T01:13:37.025541Z",
     "start_time": "2020-01-07T01:13:37.022253Z"
    }
   },
   "outputs": [],
   "source": [
    "def scaler(dataset):\n",
    "    #scaler = MinMaxScaler()\n",
    "    return scale(dataset)"
   ]
  },
  {
   "cell_type": "code",
   "execution_count": null,
   "metadata": {
    "ExecuteTime": {
     "end_time": "2020-01-07T01:13:37.254656Z",
     "start_time": "2020-01-07T01:13:37.252143Z"
    }
   },
   "outputs": [],
   "source": [
    "fashion_mnist = ds.fashion_mnist"
   ]
  },
  {
   "cell_type": "code",
   "execution_count": null,
   "metadata": {
    "ExecuteTime": {
     "end_time": "2020-01-07T01:13:37.866381Z",
     "start_time": "2020-01-07T01:13:37.445420Z"
    }
   },
   "outputs": [],
   "source": [
    "(train_images, train_labels), (test_images, test_labels) = fashion_mnist.load_data()"
   ]
  },
  {
   "cell_type": "code",
   "execution_count": null,
   "metadata": {
    "ExecuteTime": {
     "end_time": "2020-01-07T01:13:38.106557Z",
     "start_time": "2020-01-07T01:13:37.868691Z"
    }
   },
   "outputs": [],
   "source": [
    "train_images = process_dataset(train_images)\n",
    "test_images = process_dataset(test_images)"
   ]
  },
  {
   "cell_type": "code",
   "execution_count": null,
   "metadata": {
    "ExecuteTime": {
     "end_time": "2020-01-07T01:13:39.874447Z",
     "start_time": "2020-01-07T01:13:39.870847Z"
    }
   },
   "outputs": [],
   "source": [
    "print(\"shape of processed images: {}\".format(train_images.shape))\n",
    "print(\"shape of training labels: {}\".format(train_labels.shape))"
   ]
  },
  {
   "cell_type": "markdown",
   "metadata": {},
   "source": [
    "#### Binary Classification subset"
   ]
  },
  {
   "cell_type": "code",
   "execution_count": null,
   "metadata": {
    "ExecuteTime": {
     "end_time": "2020-01-07T01:13:41.266469Z",
     "start_time": "2020-01-07T01:13:40.989438Z"
    }
   },
   "outputs": [],
   "source": [
    "m1 = [(x, y) for x, y in zip(train_images, train_labels) if y == 3 or y == 0]\n",
    "m2 = [(x, y) for x, y in zip(test_images, test_labels) if y == 3 or y == 0]"
   ]
  },
  {
   "cell_type": "code",
   "execution_count": null,
   "metadata": {
    "ExecuteTime": {
     "end_time": "2020-01-07T01:13:41.363821Z",
     "start_time": "2020-01-07T01:13:41.340552Z"
    }
   },
   "outputs": [],
   "source": [
    "binary_train_x, binary_train_y = map(list, zip(*m1))\n",
    "binary_test_x, binary_test_y = map(list, zip(*m2))\n",
    "\n",
    "binary_train_x = np.array(binary_train_x)\n",
    "binary_train_y = np.array(binary_train_y)\n",
    "\n",
    "binary_test_x = np.array(binary_test_x)\n",
    "#binary_test_y = np.array(binary_test_y)"
   ]
  },
  {
   "cell_type": "code",
   "execution_count": null,
   "metadata": {
    "ExecuteTime": {
     "end_time": "2020-01-07T01:13:42.703719Z",
     "start_time": "2020-01-07T01:13:42.699639Z"
    }
   },
   "outputs": [],
   "source": [
    "print(\"binary train data size: {}\".format(len(binary_train_x)))\n",
    "print(\"binary test data size: {}\".format(len(binary_test_x)))\n",
    "\n",
    "print(\"binary train_label data size: {}\".format(len(binary_train_y)))\n",
    "print(\"binary test_label data size: {}\".format(len(binary_test_y)))"
   ]
  },
  {
   "cell_type": "markdown",
   "metadata": {},
   "source": [
    "#### Dimensionality Reduction"
   ]
  },
  {
   "cell_type": "code",
   "execution_count": null,
   "metadata": {
    "ExecuteTime": {
     "end_time": "2020-01-07T01:13:43.806044Z",
     "start_time": "2020-01-07T01:13:43.802689Z"
    }
   },
   "outputs": [],
   "source": [
    "def subset(training_images, training_labels, n):\n",
    "    return training_images[0:n], training_labels[0:n]"
   ]
  },
  {
   "cell_type": "code",
   "execution_count": null,
   "metadata": {
    "ExecuteTime": {
     "end_time": "2020-01-07T01:13:43.939555Z",
     "start_time": "2020-01-07T01:13:43.934099Z"
    }
   },
   "outputs": [],
   "source": [
    "def reduce_dimensionality(data, labels, nfeatures, reducer):\n",
    "        algorithm = \"\"\n",
    "        if reducer == 'PCA':\n",
    "            algorithm = PCA(n_components=nfeatures)\n",
    "            algorithm.fit(data)\n",
    "            data = algorithm.transform(data)\n",
    "            print(\"explained_variance_ratio_ {}\".format(algorithm.explained_variance_ratio_.sum()))\n",
    "        \n",
    "        if reducer == 'TSNE':\n",
    "            data, labels = subset(data, train_labels, 500)\n",
    "            algorithm = TSNE(n_components=2)\n",
    "            data = algorithm.fit_transform(data)\n",
    "            \n",
    "        print(\"new total number of features {}\".format(nfeatures))\n",
    "        return data, labels"
   ]
  },
  {
   "cell_type": "code",
   "execution_count": null,
   "metadata": {
    "ExecuteTime": {
     "end_time": "2020-01-07T01:13:44.448671Z",
     "start_time": "2020-01-07T01:13:44.128111Z"
    }
   },
   "outputs": [],
   "source": [
    "binary_train_x, binary_train_y = reduce_dimensionality(binary_train_x, binary_train_y, 2, 'PCA')\n",
    "binary_test_x, binary_test_y = reduce_dimensionality(binary_test_x, binary_test_y, 2, 'PCA')\n",
    "\n",
    "print(\"shape of binary_train_x {}\".format(binary_train_x.shape))\n",
    "print(\"shape of binary_train_y {}\".format(binary_train_y.shape))\n",
    "print(\"shape of binary_test_x {}\".format(binary_test_x.shape))\n",
    "#print(\"shape of binary_test_y {}\".format(binary_test_y.shape))"
   ]
  },
  {
   "cell_type": "code",
   "execution_count": null,
   "metadata": {
    "ExecuteTime": {
     "end_time": "2020-01-07T01:13:46.358157Z",
     "start_time": "2020-01-07T01:13:46.351539Z"
    }
   },
   "outputs": [],
   "source": [
    "binary_train_x = scaler(binary_train_x)"
   ]
  },
  {
   "cell_type": "code",
   "execution_count": null,
   "metadata": {
    "ExecuteTime": {
     "end_time": "2020-01-07T01:13:46.618020Z",
     "start_time": "2020-01-07T01:13:46.613051Z"
    }
   },
   "outputs": [],
   "source": [
    "binary_train_x[0]"
   ]
  },
  {
   "cell_type": "code",
   "execution_count": null,
   "metadata": {
    "ExecuteTime": {
     "end_time": "2020-01-07T01:13:46.795404Z",
     "start_time": "2020-01-07T01:13:46.790807Z"
    }
   },
   "outputs": [],
   "source": [
    "binary_test_x = scaler(binary_test_x)"
   ]
  },
  {
   "cell_type": "code",
   "execution_count": null,
   "metadata": {
    "ExecuteTime": {
     "end_time": "2020-01-07T01:13:46.980269Z",
     "start_time": "2020-01-07T01:13:46.975245Z"
    }
   },
   "outputs": [],
   "source": [
    "binary_test_x[0]"
   ]
  },
  {
   "cell_type": "markdown",
   "metadata": {},
   "source": [
    "### Neural Network"
   ]
  },
  {
   "cell_type": "code",
   "execution_count": null,
   "metadata": {
    "ExecuteTime": {
     "end_time": "2020-01-07T01:13:48.846515Z",
     "start_time": "2020-01-07T01:13:48.843428Z"
    }
   },
   "outputs": [],
   "source": [
    "nn = MLPClassifier(hidden_layer_sizes=(5), max_iter=200, \n",
    "                    learning_rate='adaptive', solver='sgd', \n",
    "                    alpha=0.0002,  \n",
    "                    activation='relu', verbose = True)"
   ]
  },
  {
   "cell_type": "code",
   "execution_count": null,
   "metadata": {
    "ExecuteTime": {
     "end_time": "2020-01-07T01:13:51.410599Z",
     "start_time": "2020-01-07T01:13:49.047366Z"
    }
   },
   "outputs": [],
   "source": [
    "nn.fit(binary_train_x, binary_train_y)"
   ]
  },
  {
   "cell_type": "code",
   "execution_count": null,
   "metadata": {
    "ExecuteTime": {
     "end_time": "2020-01-07T01:13:51.417538Z",
     "start_time": "2020-01-07T01:13:51.413507Z"
    }
   },
   "outputs": [],
   "source": [
    "predictions = nn.predict(binary_test_x)"
   ]
  },
  {
   "cell_type": "code",
   "execution_count": null,
   "metadata": {
    "ExecuteTime": {
     "end_time": "2020-01-07T01:13:53.774667Z",
     "start_time": "2020-01-07T01:13:53.766098Z"
    }
   },
   "outputs": [],
   "source": [
    "print(\"Result of simple neural network: {}\\n\".format(accuracy_score(binary_test_y, predictions)))\n",
    "print(confusion_matrix(binary_test_y, predictions))"
   ]
  },
  {
   "cell_type": "markdown",
   "metadata": {},
   "source": [
    "### Bayesian Neural Network"
   ]
  },
  {
   "cell_type": "code",
   "execution_count": null,
   "metadata": {
    "ExecuteTime": {
     "end_time": "2020-01-07T01:13:54.228338Z",
     "start_time": "2020-01-07T01:13:54.223405Z"
    }
   },
   "outputs": [],
   "source": [
    "binary_train_x, binary_train_y = subset(binary_train_x, binary_train_y, 500)\n",
    "binary_test_x, binary_test_y = subset(binary_test_x, binary_test_y, 250)\n",
    "\n",
    "print(\"binary train data size: {}\".format(len(binary_train_x)))\n",
    "print(\"binary test data size: {}\".format(len(binary_test_x)))\n",
    "\n",
    "print(\"binary train_label data size: {}\".format(len(binary_train_y)))\n",
    "print(\"binary test_label data size: {}\".format(len(binary_test_y)))"
   ]
  },
  {
   "cell_type": "code",
   "execution_count": null,
   "metadata": {
    "ExecuteTime": {
     "end_time": "2020-01-07T01:13:58.042751Z",
     "start_time": "2020-01-07T01:13:54.423147Z"
    }
   },
   "outputs": [],
   "source": [
    "def construct_nn(ann_input, ann_output):\n",
    "    n_hidden = 64\n",
    "    \n",
    "    # Initialize random weights between each layer\n",
    "    init_1 = np.random.randn(binary_train_x.shape[1], n_hidden).astype(theano.config.floatX)\n",
    "    init_2 = np.random.randn(n_hidden, n_hidden).astype(theano.config.floatX)\n",
    "    init_out = np.random.randn(n_hidden).astype(theano.config.floatX)\n",
    "        \n",
    "    with pm.Model() as neural_network:\n",
    "        # Weights from input to hidden layer\n",
    "        weights_in_1 = pm.Normal('w_in_1', 0, sd=1, \n",
    "                                 shape=(binary_train_x.shape[1], n_hidden), \n",
    "                                 testval=init_1)\n",
    "        \n",
    "        # Weights from 1st to 2nd layer\n",
    "        weights_1_2 = pm.Normal('w_1_2', 0, sd=1, \n",
    "                                shape=(n_hidden, n_hidden), \n",
    "                                testval=init_2)\n",
    "        \n",
    "        # Weights from hidden layer to output\n",
    "        weights_2_out = pm.Normal('w_2_out', 0, sd=1, \n",
    "                                  shape=(n_hidden,), \n",
    "                                  testval=init_out)\n",
    "        \n",
    "        # Build neural-network using tanh activation function\n",
    "        act_1 = nnet.relu(pm.math.dot(ann_input, \n",
    "                                         weights_in_1))\n",
    "        act_2 = nnet.relu(pm.math.dot(act_1, \n",
    "                                         weights_1_2))\n",
    "        act_out = pm.math.sigmoid(pm.math.dot(act_2, \n",
    "                                              weights_2_out))\n",
    "        \n",
    "        # Binary classification -> Bernoulli likelihood\n",
    "        out = pm.Bernoulli('out', \n",
    "                           act_out,\n",
    "                           observed=ann_output,\n",
    "                           total_size=binary_train_y.shape[0] # IMPORTANT for minibatches\n",
    "                          )\n",
    "    return neural_network\n",
    "\n",
    "ann_input = theano.shared(binary_train_x)\n",
    "ann_output = theano.shared(binary_train_y)\n",
    "neural_network = construct_nn(ann_input, ann_output)"
   ]
  },
  {
   "cell_type": "code",
   "execution_count": null,
   "metadata": {
    "ExecuteTime": {
     "end_time": "2020-01-07T01:13:58.048368Z",
     "start_time": "2020-01-07T01:13:58.045291Z"
    }
   },
   "outputs": [],
   "source": [
    "# from pymc3.theanof import set_tt_rng, MRG_RandomStreams\n",
    "# set_tt_rng(MRG_RandomStreams(42))"
   ]
  },
  {
   "cell_type": "code",
   "execution_count": null,
   "metadata": {
    "ExecuteTime": {
     "end_time": "2020-01-07T01:15:33.561349Z",
     "start_time": "2020-01-07T01:13:58.053885Z"
    }
   },
   "outputs": [],
   "source": [
    "%%time\n",
    "\n",
    "with neural_network:\n",
    "    inference = pm.ADVI()\n",
    "    approx = pm.fit(n=250000, method=inference)\n",
    "    \n",
    "trace = approx.sample(draws=5000)"
   ]
  },
  {
   "cell_type": "code",
   "execution_count": null,
   "metadata": {
    "ExecuteTime": {
     "end_time": "2020-01-07T01:15:33.926235Z",
     "start_time": "2020-01-07T01:15:33.568211Z"
    }
   },
   "outputs": [],
   "source": [
    "plt.plot(-inference.hist)\n",
    "plt.ylabel('ELBO')\n",
    "plt.xlabel('iteration');"
   ]
  },
  {
   "cell_type": "markdown",
   "metadata": {},
   "source": [
    "#### Bayesian Neural Network Model Testing"
   ]
  },
  {
   "cell_type": "code",
   "execution_count": null,
   "metadata": {
    "ExecuteTime": {
     "end_time": "2020-01-07T01:15:33.931398Z",
     "start_time": "2020-01-07T01:15:33.928292Z"
    }
   },
   "outputs": [],
   "source": [
    "bnn_test_input = theano.shared(binary_test_x)\n",
    "bnn_test_output = theano.shared(np.array(binary_test_y))"
   ]
  },
  {
   "cell_type": "code",
   "execution_count": null,
   "metadata": {
    "ExecuteTime": {
     "end_time": "2020-01-07T01:15:34.359092Z",
     "start_time": "2020-01-07T01:15:33.933590Z"
    }
   },
   "outputs": [],
   "source": [
    "neural_network = construct_nn(bnn_test_input, bnn_test_output)"
   ]
  },
  {
   "cell_type": "code",
   "execution_count": null,
   "metadata": {
    "ExecuteTime": {
     "end_time": "2020-01-07T01:15:40.897901Z",
     "start_time": "2020-01-07T01:15:34.361534Z"
    }
   },
   "outputs": [],
   "source": [
    "ann_input.set_value(binary_test_x)\n",
    "ann_output.set_value(binary_test_y)\n",
    "\n",
    "with neural_network:\n",
    "    ppc = pm.sample_ppc(trace, samples=500, progressbar=False)\n",
    "\n",
    "# Use probability of > 0.5 to assume prediction of class 1\n",
    "pred = ppc['out'].mean(axis=0) > 0.5"
   ]
  },
  {
   "cell_type": "code",
   "execution_count": null,
   "metadata": {
    "ExecuteTime": {
     "end_time": "2020-01-07T01:15:40.908404Z",
     "start_time": "2020-01-07T01:15:40.902222Z"
    }
   },
   "outputs": [],
   "source": [
    "print('Accuracy = {}%'.format((binary_test_y == pred).mean() * 100))"
   ]
  }
 ],
 "metadata": {
  "kernelspec": {
   "display_name": "Python 3",
   "language": "python",
   "name": "python3"
  },
  "language_info": {
   "codemirror_mode": {
    "name": "ipython",
    "version": 3
   },
   "file_extension": ".py",
   "mimetype": "text/x-python",
   "name": "python",
   "nbconvert_exporter": "python",
   "pygments_lexer": "ipython3",
   "version": "3.7.4"
  }
 },
 "nbformat": 4,
 "nbformat_minor": 2
}
